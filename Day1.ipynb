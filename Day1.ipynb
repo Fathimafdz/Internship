{
  "nbformat": 4,
  "nbformat_minor": 0,
  "metadata": {
    "colab": {
      "provenance": [],
      "authorship_tag": "ABX9TyM9+dfKcqD1VJmlCfyEgBfy",
      "include_colab_link": true
    },
    "kernelspec": {
      "name": "python3",
      "display_name": "Python 3"
    },
    "language_info": {
      "name": "python"
    }
  },
  "cells": [
    {
      "cell_type": "markdown",
      "metadata": {
        "id": "view-in-github",
        "colab_type": "text"
      },
      "source": [
        "<a href=\"https://colab.research.google.com/github/Fathimafdz/Internship/blob/main/Day1.ipynb\" target=\"_parent\"><img src=\"https://colab.research.google.com/assets/colab-badge.svg\" alt=\"Open In Colab\"/></a>"
      ]
    },
    {
      "cell_type": "code",
      "source": [
        "#calculator\n",
        "a=int(input(\"Enter the  number 1:-\"))\n",
        "b=int(input(\"Enter the  number 2:-\"))\n",
        "print('select operation')\n",
        "print('1.Addition')\n",
        "print('2.Subtraction')\n",
        "print('3.Multiplication')\n",
        "print('4.Division')\n",
        "n=int(input(\"Enter the choice: \"))\n",
        "if(n==1):\n",
        "  r=a+b\n",
        "  print(r)\n",
        "elif(n==2):\n",
        "    r=a-b\n",
        "    print(r)\n",
        "elif(n==3):\n",
        "   r=a*b\n",
        "   print(r)\n",
        "elif(n==4):\n",
        "     r=a/b\n",
        "     print(r)\n",
        "else:\n",
        "       print('wrong input')\n",
        "\n"
      ],
      "metadata": {
        "colab": {
          "base_uri": "https://localhost:8080/"
        },
        "id": "_i7NwsNy1Zfb",
        "outputId": "494ede0d-1615-47bc-8e17-72331ba10f43"
      },
      "execution_count": null,
      "outputs": [
        {
          "output_type": "stream",
          "name": "stdout",
          "text": [
            "Enter the  number 1:-2\n",
            "Enter the  number 2:-4\n",
            "select operation\n",
            "1.Addition\n",
            "2.Subtraction\n",
            "3.Multiplication\n",
            "4.Division\n",
            "Enter the choice: 2\n",
            "-2\n"
          ]
        }
      ]
    },
    {
      "cell_type": "code",
      "source": [
        "num=int(input(\"Enter the number:\"))\n",
        "c=0\n",
        "i=1\n",
        "while(i<=num):\n",
        " if num%i==0:\n",
        "    c=c+1\n",
        " i=i+1\n",
        "if c==2:\n",
        "   print (\"number is prime\")\n",
        "else: \n",
        "   print(\"number is not prime\")    "
      ],
      "metadata": {
        "colab": {
          "base_uri": "https://localhost:8080/"
        },
        "id": "guyz3lSB5paJ",
        "outputId": "af0ab749-5388-4a04-bb90-d5c8914b380e"
      },
      "execution_count": null,
      "outputs": [
        {
          "output_type": "stream",
          "name": "stdout",
          "text": [
            "Enter the number:3\n",
            "number is prime\n"
          ]
        }
      ]
    },
    {
      "cell_type": "code",
      "source": [
        "year=int(input(\"enter the number:\"))\n",
        "if year%4==0:\n",
        "  print(\"leap year\")\n",
        "elif year%400==0:\n",
        "  print(\"leap year\")\n",
        "else:\n",
        " print(\"not leap year\")\n"
      ],
      "metadata": {
        "colab": {
          "base_uri": "https://localhost:8080/"
        },
        "id": "ecyCrEzM8BlE",
        "outputId": "a72d1031-b3ff-4d20-ef26-17585ecf9972"
      },
      "execution_count": null,
      "outputs": [
        {
          "output_type": "stream",
          "name": "stdout",
          "text": [
            "enter the number:2024\n",
            "leap year\n"
          ]
        }
      ]
    },
    {
      "cell_type": "code",
      "source": [
        "a = int(input(\"enter the number : \"))\n",
        "s=0\n",
        "for i in range(0,a+1):\n",
        "  s=s+i\n",
        "print(\"the sum is: \",s)\n"
      ],
      "metadata": {
        "colab": {
          "base_uri": "https://localhost:8080/"
        },
        "id": "VbdCFT1i5G75",
        "outputId": "3bb68212-c0e8-4a40-dee9-c978cc7dc075"
      },
      "execution_count": null,
      "outputs": [
        {
          "output_type": "stream",
          "name": "stdout",
          "text": [
            "enter the number : 20\n",
            "the sum is:  210\n"
          ]
        }
      ]
    },
    {
      "cell_type": "code",
      "source": [
        "def greet():\n",
        "  print('HELLO')\n",
        "   \n",
        "greet()"
      ],
      "metadata": {
        "id": "5fwgdmSsDbJ9",
        "colab": {
          "base_uri": "https://localhost:8080/"
        },
        "outputId": "5b828d87-ca76-4a5d-ec4a-91802dece4bc"
      },
      "execution_count": null,
      "outputs": [
        {
          "output_type": "stream",
          "name": "stdout",
          "text": [
            "HELLO\n"
          ]
        }
      ]
    },
    {
      "cell_type": "code",
      "source": [
        "def addnumber(num1,num2):\n",
        "  sum=num1+num2\n",
        "  print(sum)"
      ],
      "metadata": {
        "id": "xttxnnFeF8pi"
      },
      "execution_count": null,
      "outputs": []
    },
    {
      "cell_type": "code",
      "source": [
        "addnumber(4,5)"
      ],
      "metadata": {
        "colab": {
          "base_uri": "https://localhost:8080/"
        },
        "id": "T1Sj0p77G1Qn",
        "outputId": "3702b706-c213-4e7f-e926-98673b7db96b"
      },
      "execution_count": null,
      "outputs": [
        {
          "output_type": "stream",
          "name": "stdout",
          "text": [
            "9\n"
          ]
        }
      ]
    },
    {
      "cell_type": "code",
      "source": [
        "def squarenumber(num1):\n",
        "  square =num1*num1\n",
        "  print(square)\n",
        "squarenumber(10)"
      ],
      "metadata": {
        "colab": {
          "base_uri": "https://localhost:8080/"
        },
        "id": "gPgnsMRMJoJj",
        "outputId": "af05d796-31ba-4761-9ef9-59e5335c6e58"
      },
      "execution_count": null,
      "outputs": [
        {
          "output_type": "stream",
          "name": "stdout",
          "text": [
            "100\n"
          ]
        }
      ]
    },
    {
      "cell_type": "code",
      "source": [
        "def sqr(a):\n",
        "  print(\"Square of the number is :\",a*a)\n",
        "n=int(input(\"enter the number: \"))\n",
        "sqr(n)"
      ],
      "metadata": {
        "colab": {
          "base_uri": "https://localhost:8080/"
        },
        "id": "ZPQ8NP0iLCXC",
        "outputId": "830ceb32-94b1-4fbe-a2ce-4c0d2fc964e5"
      },
      "execution_count": null,
      "outputs": [
        {
          "output_type": "stream",
          "name": "stdout",
          "text": [
            "enter the number: 4\n",
            "Square of the number is : 16\n"
          ]
        }
      ]
    },
    {
      "cell_type": "markdown",
      "source": [
        "DAY 1 ASSIGNMENT"
      ],
      "metadata": {
        "id": "1PMgrGXk6hs1"
      }
    },
    {
      "cell_type": "code",
      "source": [
        "#string length and half of the string\n",
        "string = input(\"Enter the string : \")\n",
        "N=0\n",
        "print(\"length of The String: \",len(string))\n",
        "print(\"First half of the string: \",string[:len(string)//2])"
      ],
      "metadata": {
        "colab": {
          "base_uri": "https://localhost:8080/"
        },
        "id": "98CLA5xcxVAC",
        "outputId": "4cbd4657-9770-47ed-de9f-fec6e420ae75"
      },
      "execution_count": null,
      "outputs": [
        {
          "output_type": "stream",
          "name": "stdout",
          "text": [
            "Enter the string : fathima\n",
            "length of The String:  7\n",
            "First half of the string:  fat\n"
          ]
        }
      ]
    },
    {
      "cell_type": "code",
      "source": [
        "#resultant and length of string\n",
        "str1 = input(\"Enter first string: \")\n",
        "str2 = input(\"Enter second string: \")\n",
        "Add = str1 + str2\n",
        "print(\"Resultant string is:\", Add)\n",
        "print(\"Length of the resultant string is:\", len(Add))"
      ],
      "metadata": {
        "colab": {
          "base_uri": "https://localhost:8080/"
        },
        "id": "Vg9G0xblxihP",
        "outputId": "d8445c4f-24e8-48f7-eaa7-b30a76358b59"
      },
      "execution_count": null,
      "outputs": [
        {
          "output_type": "stream",
          "name": "stdout",
          "text": [
            "Enter first string: fathima\n",
            "Enter second string: salim\n",
            "Resultant string is: fathimasalim\n",
            "Length of the resultant string is: 12\n"
          ]
        }
      ]
    },
    {
      "cell_type": "code",
      "source": [
        "#tuple of integer\n",
        "tup = (78,45,32,19,82,77,40,39)\n",
        "lst = list(tup)\n",
        "lst[2] = 100\n",
        "tup = tuple(lst)\n",
        "print(tup)"
      ],
      "metadata": {
        "colab": {
          "base_uri": "https://localhost:8080/"
        },
        "id": "kU0sHNQ2xvVQ",
        "outputId": "3674fdc5-63cf-42a0-e154-5f0e9a14f454"
      },
      "execution_count": null,
      "outputs": [
        {
          "output_type": "stream",
          "name": "stdout",
          "text": [
            "(78, 45, 100, 19, 82, 77, 40, 39)\n"
          ]
        }
      ]
    },
    {
      "cell_type": "code",
      "source": [
        "#list a number\n",
        "lst = [19,32,10,55,31,32,94,29,10,65,77,40,40]\n",
        "lst[9] = 300\n",
        "lst.remove(32)\n",
        "while 40 in lst:\n",
        "    lst.remove(40)\n",
        "del lst[5]\n",
        "print(len(lst))\n",
        "lst[2]+=200\n",
        "s=0\n",
        "for i in lst:\n",
        "  s=s+i\n",
        "print(lst)\n",
        "print(\"Length of list:\", len(lst))\n",
        "print(\"Maximum value in list:\", max(lst))\n",
        "print(\"Sum of all elements in list:\", s)"
      ],
      "metadata": {
        "colab": {
          "base_uri": "https://localhost:8080/"
        },
        "id": "BZi_RE8CxxYL",
        "outputId": "7b0df1b5-a879-45dd-9277-b1017fc441a2"
      },
      "execution_count": null,
      "outputs": [
        {
          "output_type": "stream",
          "name": "stdout",
          "text": [
            "9\n",
            "[19, 10, 255, 31, 32, 29, 10, 300, 77]\n",
            "Length of list: 9\n",
            "Maximum value in list: 300\n",
            "Sum of all elements in list: 763\n"
          ]
        }
      ]
    },
    {
      "cell_type": "code",
      "source": [
        "#sum of all elements\n",
        "lst = []\n",
        "n = int (input(\"Enter number of elements : \"))\n",
        "for i in range(0,n):\n",
        " print(\"Enter elements: \")\n",
        " ele =int(input())\n",
        " lst.append(ele)\n",
        " print(lst)\n",
        "sum = 0 \n",
        "for i in lst:\n",
        "  sum += i\n",
        "print(\"Sum of all elements in the given list: \",sum)"
      ],
      "metadata": {
        "colab": {
          "base_uri": "https://localhost:8080/"
        },
        "id": "V4_4-qgQyIYK",
        "outputId": "8731d13f-f840-42bf-bd3b-08fb7da722a6"
      },
      "execution_count": null,
      "outputs": [
        {
          "output_type": "stream",
          "name": "stdout",
          "text": [
            "Enter number of elements : 7\n",
            "Enter elements: \n",
            "1\n",
            "[1]\n",
            "Enter elements: \n",
            "4\n",
            "[1, 4]\n",
            "Enter elements: \n",
            "3\n",
            "[1, 4, 3]\n",
            "Enter elements: \n",
            "8\n",
            "[1, 4, 3, 8]\n",
            "Enter elements: \n",
            "4\n",
            "[1, 4, 3, 8, 4]\n",
            "Enter elements: \n",
            "6\n",
            "[1, 4, 3, 8, 4, 6]\n",
            "Enter elements: \n",
            "7\n",
            "[1, 4, 3, 8, 4, 6, 7]\n",
            "Sum of all elements in the given list:  33\n"
          ]
        }
      ]
    },
    {
      "cell_type": "code",
      "source": [],
      "metadata": {
        "id": "Bx-6zZcy8Vbt"
      },
      "execution_count": null,
      "outputs": []
    }
  ]
}