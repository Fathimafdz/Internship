{
  "nbformat": 4,
  "nbformat_minor": 0,
  "metadata": {
    "colab": {
      "provenance": [],
      "authorship_tag": "ABX9TyOMICIG93t9NCDv9H6aomKu",
      "include_colab_link": true
    },
    "kernelspec": {
      "name": "python3",
      "display_name": "Python 3"
    },
    "language_info": {
      "name": "python"
    }
  },
  "cells": [
    {
      "cell_type": "markdown",
      "metadata": {
        "id": "view-in-github",
        "colab_type": "text"
      },
      "source": [
        "<a href=\"https://colab.research.google.com/github/Fathimafdz/Internship/blob/main/Day2Assignmnt.ipynb\" target=\"_parent\"><img src=\"https://colab.research.google.com/assets/colab-badge.svg\" alt=\"Open In Colab\"/></a>"
      ]
    },
    {
      "cell_type": "markdown",
      "source": [
        "Reverse order using loop\n"
      ],
      "metadata": {
        "id": "pCov56qyeVLN"
      }
    },
    {
      "cell_type": "code",
      "source": [
        "fruits = ['banana', 'orange', 'mango', 'lemon']\n",
        "\n",
        "for i in range(len(fruits)//2):\n",
        "    temp = fruits[i]\n",
        "    fruits[i] = fruits[-i-1]\n",
        "    fruits[-i-1] = temp\n",
        "\n",
        "print(fruits)"
      ],
      "metadata": {
        "colab": {
          "base_uri": "https://localhost:8080/"
        },
        "id": "lNA43mJUejJR",
        "outputId": "9a8c1665-0485-4fc8-ba27-382f2f118469"
      },
      "execution_count": null,
      "outputs": [
        {
          "output_type": "stream",
          "name": "stdout",
          "text": [
            "['lemon', 'mango', 'orange', 'banana']\n"
          ]
        }
      ]
    },
    {
      "cell_type": "markdown",
      "source": [
        "First 10 numbers fibbinochi"
      ],
      "metadata": {
        "id": "L-o1pn1Aeue-"
      }
    },
    {
      "cell_type": "code",
      "source": [
        "a, b = 0, 1\n",
        "\n",
        "for i in range(10):\n",
        "    print(a)\n",
        "    a, b = b, a+b"
      ],
      "metadata": {
        "colab": {
          "base_uri": "https://localhost:8080/"
        },
        "id": "cr-e8FwYfTJ7",
        "outputId": "a6df72fb-6297-4db4-b55a-67c7c4455554"
      },
      "execution_count": null,
      "outputs": [
        {
          "output_type": "stream",
          "name": "stdout",
          "text": [
            "0\n",
            "1\n",
            "1\n",
            "2\n",
            "3\n",
            "5\n",
            "8\n",
            "13\n",
            "21\n",
            "34\n"
          ]
        }
      ]
    },
    {
      "cell_type": "markdown",
      "source": [
        "Print all prime numbers b/w 0-100 & print how many prime numbers are there?"
      ],
      "metadata": {
        "id": "AjebYuA-fdPo"
      }
    },
    {
      "cell_type": "code",
      "source": [
        "def is_prime(num):\n",
        "    if num < 2:\n",
        "        return False\n",
        "    for i in range(2, int(num**0.5) + 1):\n",
        "        if num % i == 0:\n",
        "            return False\n",
        "    return True\n",
        "\n",
        "\n",
        "count = 0\n",
        "for i in range(0, 101):\n",
        "    if is_prime(i):\n",
        "        print(i)\n",
        "        count += 1\n",
        "\n",
        "\n",
        "print(\"There are\", count, \"prime numbers between 0 and 100.\")"
      ],
      "metadata": {
        "colab": {
          "base_uri": "https://localhost:8080/"
        },
        "id": "6zvCyfHpfuMm",
        "outputId": "53846c38-4404-40af-8851-0e95858ade4a"
      },
      "execution_count": null,
      "outputs": [
        {
          "output_type": "stream",
          "name": "stdout",
          "text": [
            "2\n",
            "3\n",
            "5\n",
            "7\n",
            "11\n",
            "13\n",
            "17\n",
            "19\n",
            "23\n",
            "29\n",
            "31\n",
            "37\n",
            "41\n",
            "43\n",
            "47\n",
            "53\n",
            "59\n",
            "61\n",
            "67\n",
            "71\n",
            "73\n",
            "79\n",
            "83\n",
            "89\n",
            "97\n",
            "There are 25 prime numbers between 0 and 100.\n"
          ]
        }
      ]
    },
    {
      "cell_type": "markdown",
      "source": [
        "Square of a number even it is even and cube of a number even it is odd"
      ],
      "metadata": {
        "id": "pIb9SH5dhrG_"
      }
    },
    {
      "cell_type": "code",
      "source": [
        "number = int(input(\"Enter a number: \"))\n",
        "\n",
        "if number % 2 == 0:\n",
        "    square = number ** 2\n",
        "    print(\"The square of\", number, \"is\", square)\n",
        "else:\n",
        "    cube = number ** 3\n",
        "    print(\"The cube of\", number, \"is\", cube)"
      ],
      "metadata": {
        "id": "PQDgCnEFh4wn",
        "colab": {
          "base_uri": "https://localhost:8080/"
        },
        "outputId": "082be9f5-e1e4-4f2e-f1ac-fd8de660cc04"
      },
      "execution_count": null,
      "outputs": [
        {
          "output_type": "stream",
          "name": "stdout",
          "text": [
            "Enter a number: 4\n",
            "The square of 4 is 16\n"
          ]
        }
      ]
    },
    {
      "cell_type": "markdown",
      "source": [
        "Longest word in a given sentence"
      ],
      "metadata": {
        "id": "aRV615KmiZQt"
      }
    },
    {
      "cell_type": "code",
      "source": [
        "sentence = input(\"Enter a sentence: \")\n",
        "words = sentence.split()\n",
        "longest_word = \"\"\n",
        "for word in words:\n",
        "    if len(word) > len(longest_word):\n",
        "        longest_word = word\n",
        "print(\"The longest word in the sentence is:\", longest_word)"
      ],
      "metadata": {
        "id": "K1NtLsvDi3Fd",
        "colab": {
          "base_uri": "https://localhost:8080/"
        },
        "outputId": "89ce74a9-7035-48bd-f894-1dd8ef80d4b0"
      },
      "execution_count": null,
      "outputs": [
        {
          "output_type": "stream",
          "name": "stdout",
          "text": [
            "Enter a sentence: Hey welcome to python\n",
            "The longest word in the sentence is: welcome\n"
          ]
        }
      ]
    },
    {
      "cell_type": "markdown",
      "source": [
        "Average of 5 nmbrs using while loop"
      ],
      "metadata": {
        "id": "IG1yJvR6jCaw"
      }
    },
    {
      "cell_type": "code",
      "source": [
        "sum = 0\n",
        "count = 0\n",
        "while count < 5:\n",
        "    num = float(input(\"Enter a number: \"))\n",
        "    sum += num\n",
        "    count += 1\n",
        "avg = sum / 5\n",
        "print(\"The average of the 5 numbers is:\", avg)"
      ],
      "metadata": {
        "id": "3QMJrnJVjP6P",
        "colab": {
          "base_uri": "https://localhost:8080/"
        },
        "outputId": "edafdf74-a16e-448d-aa1d-81d9ad5ea5a2"
      },
      "execution_count": null,
      "outputs": [
        {
          "output_type": "stream",
          "name": "stdout",
          "text": [
            "Enter a number: 2\n",
            "Enter a number: 3\n",
            "Enter a number: 4\n",
            "Enter a number: 5\n",
            "Enter a number: 6\n",
            "The average of the 5 numbers is: 4.0\n"
          ]
        }
      ]
    },
    {
      "cell_type": "markdown",
      "source": [
        "sum of integer using while loop"
      ],
      "metadata": {
        "id": "qOlB1dsijVKo"
      }
    },
    {
      "cell_type": "code",
      "source": [
        "num = int(input(\"Enter an integer: \"))\n",
        "sum = 0\n",
        "while num > 0:\n",
        "    digit = num % 10    \n",
        "    sum += digit        \n",
        "    num //= 10          \n",
        "print(\"The sum of the digits is:\", sum)"
      ],
      "metadata": {
        "id": "z_4XMNrajdUH",
        "colab": {
          "base_uri": "https://localhost:8080/"
        },
        "outputId": "334d2126-054e-4544-c25c-d4bd615a4b11"
      },
      "execution_count": null,
      "outputs": [
        {
          "output_type": "stream",
          "name": "stdout",
          "text": [
            "Enter an integer: 34\n",
            "The sum of the digits is: 7\n"
          ]
        }
      ]
    },
    {
      "cell_type": "markdown",
      "source": [
        "Interest of loan"
      ],
      "metadata": {
        "id": "NT7f-i4pjm10"
      }
    },
    {
      "cell_type": "code",
      "source": [
        "principal = 100000\n",
        "rate = 0.05\n",
        "for i in range(1, 6):\n",
        "    interest = principal * rate\n",
        "    amount = principal + interest\n",
        "    print(\"Year\", i, \"Interest:\", interest, \"Amount:\", amount)\n",
        "    principal = amount"
      ],
      "metadata": {
        "id": "KR63iCdikA3Y",
        "colab": {
          "base_uri": "https://localhost:8080/"
        },
        "outputId": "823cde1b-ee1d-47df-8e60-f25d40f91141"
      },
      "execution_count": null,
      "outputs": [
        {
          "output_type": "stream",
          "name": "stdout",
          "text": [
            "Year 1 Interest: 5000.0 Amount: 105000.0\n",
            "Year 2 Interest: 5250.0 Amount: 110250.0\n",
            "Year 3 Interest: 5512.5 Amount: 115762.5\n",
            "Year 4 Interest: 5788.125 Amount: 121550.625\n",
            "Year 5 Interest: 6077.53125 Amount: 127628.15625\n"
          ]
        }
      ]
    },
    {
      "cell_type": "markdown",
      "source": [
        "Finding Leap year"
      ],
      "metadata": {
        "id": "ppLL7sKtkK9y"
      }
    },
    {
      "cell_type": "code",
      "source": [
        "if 2034 % 4 == 0:\n",
        "    if 2034 % 100 == 0:\n",
        "        if 2034 % 400 == 0:\n",
        "            print(\"2034 is a leap year\")\n",
        "        else:\n",
        "            print(\"2034 is not a leap year\")\n",
        "    else:\n",
        "        print(\"2034 is a leap year\")\n",
        "else:\n",
        "    print(\"2034 is not a leap year\")\n",
        "\n",
        "if 2048 % 4 == 0:\n",
        "    if 2048 % 100 == 0:\n",
        "        if 2048 % 400 == 0:\n",
        "            print(\"2048 is a leap year\")\n",
        "        else:\n",
        "            print(\"2048 is not a leap year\")\n",
        "    else:\n",
        "        print(\"2048 is a leap year\")\n",
        "else:\n",
        "    print(\"2048 is not a leap year\")"
      ],
      "metadata": {
        "id": "HI7bKxT3kYYK",
        "colab": {
          "base_uri": "https://localhost:8080/"
        },
        "outputId": "555e1c38-fb4f-4839-8a8f-546bff5ebb93"
      },
      "execution_count": null,
      "outputs": [
        {
          "output_type": "stream",
          "name": "stdout",
          "text": [
            "2034 is not a leap year\n",
            "2048 is a leap year\n"
          ]
        }
      ]
    }
  ]
}